{
 "cells": [
  {
   "cell_type": "markdown",
   "metadata": {},
   "source": [
    "Architecture of a FHIR app:\n",
    "![image](https://cdn-images-1.medium.com/max/1200/1*qRd-H-cPHAGTB993sNLy3Q.png)\n",
    "(from https://blog.heliossoftware.com/fhir-architectural-patterns-ae828b13d40c)"
   ]
  },
  {
   "cell_type": "markdown",
   "metadata": {},
   "source": [
    "# FHIR-Drills (Simple Patient)\n",
    "\n",
    "This notebook is a rough, Jupyter translation of the FHIR-Drills tutorial based on Postman avaialble [here](https://fhir-drills.github.io/simple-patient.html). Rather than using the Python Smart on FHIR library, I'm going to use the Python requests library so that we are working more directly with the HTTP protocol and are closer to the steps described in the original tutorial"
   ]
  },
  {
   "cell_type": "markdown",
   "metadata": {},
   "source": [
    "## Find a patient with relevant variables"
   ]
  },
  {
   "cell_type": "code",
   "execution_count": null,
   "metadata": {},
   "outputs": [],
   "source": [
    "import requests\n",
    "from post_data import create_resource\n",
    "import urllib"
   ]
  },
  {
   "cell_type": "code",
   "execution_count": null,
   "metadata": {},
   "outputs": [],
   "source": [
    "FHIRJSONMimeType = 'application/fhir+json'\n",
    "header_defaults = {\n",
    "            'Accept': FHIRJSONMimeType,\n",
    "            'Accept-Charset': 'UTF-8',\n",
    "        }\n",
    "URL = 'https://stu3.test.pyrohealth.net/fhir'"
   ]
  },
  {
   "cell_type": "markdown",
   "metadata": {},
   "source": [
    "### Create Patient and get `id`"
   ]
  },
  {
   "cell_type": "code",
   "execution_count": null,
   "metadata": {},
   "outputs": [],
   "source": [
    "patientId = create_resource()"
   ]
  },
  {
   "cell_type": "code",
   "execution_count": null,
   "metadata": {},
   "outputs": [],
   "source": [
    "patientId"
   ]
  },
  {
   "cell_type": "markdown",
   "metadata": {},
   "source": [
    "### Set the headers to work with FHIR data\n",
    "\n",
    "To request the FHIR resource, we build up a URL based on\n",
    "\n",
    "- The base URL: `URL`\n",
    "- The resource type we want: `Patient`\n",
    "- The ID of the resoruce we want: `patientID` (returned from `create_resource()`)\n",
    "\n"
   ]
  },
  {
   "cell_type": "code",
   "execution_count": null,
   "metadata": {},
   "outputs": [],
   "source": [
    "rurl = URL+ '/Patient/'+patientId\n",
    "rurl"
   ]
  },
  {
   "cell_type": "markdown",
   "metadata": {},
   "source": [
    "## Load the data and get basic demographics"
   ]
  },
  {
   "cell_type": "code",
   "execution_count": null,
   "metadata": {},
   "outputs": [],
   "source": [
    "r = requests.get(rurl,\n",
    "                 headers = header_defaults)"
   ]
  },
  {
   "cell_type": "markdown",
   "metadata": {},
   "source": [
    "## Get the returned content\n",
    "\n",
    "We are going to extract the returned data and use the resposne objects `json` method to convert the returned object to a Python dictionary."
   ]
  },
  {
   "cell_type": "code",
   "execution_count": null,
   "metadata": {},
   "outputs": [],
   "source": [
    "patient = r.json()\n",
    "print(type(patient))"
   ]
  },
  {
   "cell_type": "code",
   "execution_count": null,
   "metadata": {},
   "outputs": [],
   "source": [
    "patient"
   ]
  },
  {
   "cell_type": "markdown",
   "metadata": {},
   "source": [
    "Dictionary are __key__/__value__ pairs.\n",
    "\n",
    "We can list the keys with the `keys()` method."
   ]
  },
  {
   "cell_type": "code",
   "execution_count": null,
   "metadata": {},
   "outputs": [],
   "source": [
    "patient.keys()"
   ]
  },
  {
   "cell_type": "markdown",
   "metadata": {},
   "source": [
    "We access the values in the dictionary using square brackets and the keys.\n",
    "\n",
    "For example,"
   ]
  },
  {
   "cell_type": "code",
   "execution_count": null,
   "metadata": {},
   "outputs": [],
   "source": [
    "patient[\"birthDate\"]"
   ]
  },
  {
   "cell_type": "markdown",
   "metadata": {},
   "source": [
    "We can change the value by assigning a value to the key"
   ]
  },
  {
   "cell_type": "code",
   "execution_count": null,
   "metadata": {},
   "outputs": [],
   "source": [
    "patient[\"birthDate\"] = \"1970-01-01\""
   ]
  },
  {
   "cell_type": "markdown",
   "metadata": {},
   "source": [
    "## Change Patient name\n",
    "\n",
    "The tutorial suggests we change the patient name to your own and then push the results up to the server."
   ]
  },
  {
   "cell_type": "code",
   "execution_count": null,
   "metadata": {},
   "outputs": [],
   "source": [
    "patient[\"name\"] = [{'family': \"Chapman\", 'given':['Brian', 'Earl'], \n",
    "              \"prefix\":\"Dr.\", \"text\":\"Brian Chapman\", \"use\":\"official\"}]"
   ]
  },
  {
   "cell_type": "markdown",
   "metadata": {},
   "source": [
    "## PUT the modified data on the server\n",
    "\n",
    "we will use the `PUT` method to push our modified patient to the server."
   ]
  },
  {
   "cell_type": "code",
   "execution_count": null,
   "metadata": {},
   "outputs": [],
   "source": [
    "r2 = requests.put(URL+'/Patient/'+patientId,\n",
    "                 headers = header_defaults,\n",
    "                 json=patient)\n",
    "r2.ok"
   ]
  },
  {
   "cell_type": "markdown",
   "metadata": {},
   "source": [
    "## Verify Results"
   ]
  },
  {
   "cell_type": "code",
   "execution_count": null,
   "metadata": {},
   "outputs": [],
   "source": [
    "requests.get(URL+'/Patient/'+patientId,\n",
    "                 headers = header_defaults).json()['name']"
   ]
  },
  {
   "cell_type": "markdown",
   "metadata": {},
   "source": [
    "## Replicate using the fhirclient"
   ]
  },
  {
   "cell_type": "code",
   "execution_count": null,
   "metadata": {},
   "outputs": [],
   "source": [
    "from fhirclient import client\n",
    "print('FHIR client library has been loaded')"
   ]
  },
  {
   "cell_type": "code",
   "execution_count": null,
   "metadata": {},
   "outputs": [],
   "source": [
    "settings = {\n",
    "    'app_id': 'my_web_app',\n",
    "    'api_base': 'https://stu3.test.pyrohealth.net/fhir'\n",
    "}"
   ]
  },
  {
   "cell_type": "code",
   "execution_count": null,
   "metadata": {},
   "outputs": [],
   "source": [
    "# Create an instance of the FHIR client that points to this FHIR server. We use \n",
    "# this to make the calls.\n",
    "db = client.FHIRClient(settings=settings)"
   ]
  },
  {
   "cell_type": "code",
   "execution_count": null,
   "metadata": {},
   "outputs": [],
   "source": [
    "# Perform a GET (read) on the patient with the ID you identified earlier\n",
    "from fhirclient.models.patient import Patient\n",
    "patient = Patient.read(patientId, db.server)"
   ]
  },
  {
   "cell_type": "code",
   "execution_count": null,
   "metadata": {},
   "outputs": [],
   "source": [
    "p = patient.as_json()"
   ]
  },
  {
   "cell_type": "code",
   "execution_count": null,
   "metadata": {},
   "outputs": [],
   "source": [
    "p"
   ]
  },
  {
   "cell_type": "markdown",
   "metadata": {},
   "source": [
    "## *Optional: get basic demographics*"
   ]
  },
  {
   "cell_type": "code",
   "execution_count": null,
   "metadata": {},
   "outputs": [],
   "source": [
    "# Patient name. \n",
    "# Show the name object so we can see what's in it\n",
    "print(patient.name)"
   ]
  },
  {
   "cell_type": "markdown",
   "metadata": {},
   "source": [
    "The patient's name is a list of `HumanName`s. We can find out about the structure of this data type on the FHIR website: https://www.hl7.org/fhir/datatypes.html#HumanName"
   ]
  },
  {
   "cell_type": "code",
   "execution_count": null,
   "metadata": {},
   "outputs": [],
   "source": [
    "# Show the contents of each object in the list\n",
    "for name in patient.name:\n",
    "    print(name.as_json())"
   ]
  },
  {
   "cell_type": "code",
   "execution_count": null,
   "metadata": {},
   "outputs": [],
   "source": [
    "# We see that a Patient can have more than one name (i.e. Patient.name is a list)\n",
    "# and each name can have more than one given name (i.e. given is also a list).\n",
    "# Let's use the first name in the list and the first given name:\n",
    "first_name = patient.name[0].given[0]\n",
    "last_name = patient.name[0].family\n",
    "print(first_name, last_name)"
   ]
  },
  {
   "cell_type": "code",
   "execution_count": null,
   "metadata": {},
   "outputs": [],
   "source": [
    "# Patient's gender\n",
    "gender = patient.gender\n",
    "gender"
   ]
  },
  {
   "cell_type": "code",
   "execution_count": null,
   "metadata": {},
   "outputs": [],
   "source": [
    "# Define variable dob as the patient's date of birth\n",
    "dob = patient.birthDate.date\n",
    "print(dob)"
   ]
  },
  {
   "cell_type": "code",
   "execution_count": null,
   "metadata": {},
   "outputs": [],
   "source": [
    "# We'd like to know the patient's age. The EHR contains the date of birth only, \n",
    "# so we have to calculate the age using the dob and today's date.\n",
    "# For this we need the datetime library\n",
    "import datetime\n",
    "\n",
    "# Define and print today variable.\n",
    "today = datetime.date.today()\n",
    "print(today)"
   ]
  },
  {
   "cell_type": "code",
   "execution_count": null,
   "metadata": {},
   "outputs": [],
   "source": [
    "# Calculate the patient's age using the relativedelta method of the dateutil \n",
    "# module\n",
    "from dateutil.relativedelta import relativedelta\n",
    "\n",
    "delta = relativedelta(today, dob)\n",
    "age = delta.years\n",
    "age"
   ]
  },
  {
   "cell_type": "code",
   "execution_count": null,
   "metadata": {},
   "outputs": [],
   "source": [
    "# Print patient name, gender, DOB, age, and today's date\n",
    "print(\"Patient's Name(s) =\", first_name, last_name)\n",
    "print(\"Gender =\", gender)\n",
    "print(\"DOB =\", dob)\n",
    "print(\"Today's Date =\", today)\n",
    "print(\"Patient's age =\", age)"
   ]
  },
  {
   "cell_type": "code",
   "execution_count": null,
   "metadata": {},
   "outputs": [],
   "source": []
  },
  {
   "cell_type": "code",
   "execution_count": null,
   "metadata": {},
   "outputs": [],
   "source": []
  }
 ],
 "metadata": {
  "anaconda-cloud": {},
  "kernelspec": {
   "display_name": "Python 3",
   "language": "python",
   "name": "python3"
  },
  "language_info": {
   "codemirror_mode": {
    "name": "ipython",
    "version": 3
   },
   "file_extension": ".py",
   "mimetype": "text/x-python",
   "name": "python",
   "nbconvert_exporter": "python",
   "pygments_lexer": "ipython3",
   "version": "3.8.8"
  },
  "toc": {
   "base_numbering": 1,
   "nav_menu": {},
   "number_sections": true,
   "sideBar": true,
   "skip_h1_title": false,
   "title_cell": "Table of Contents",
   "title_sidebar": "Contents",
   "toc_cell": false,
   "toc_position": {},
   "toc_section_display": true,
   "toc_window_display": true
  }
 },
 "nbformat": 4,
 "nbformat_minor": 1
}
